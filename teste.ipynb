{
 "cells": [
  {
   "cell_type": "code",
   "execution_count": 1,
   "metadata": {},
   "outputs": [
    {
     "name": "stderr",
     "output_type": "stream",
     "text": [
      "/home/jimmy.gomes/Documents/Projetos/CAGE/Projeto Dizer o Direito/backend/modules/vector_store/vector_store.py:24: LangChainDeprecationWarning: The class `Chroma` was deprecated in LangChain 0.2.9 and will be removed in 1.0. An updated version of the class exists in the :class:`~langchain-chroma package and should be used instead. To use it run `pip install -U :class:`~langchain-chroma` and import as `from :class:`~langchain_chroma import Chroma``.\n",
      "  vectordb = Chroma(\n",
      "/home/jimmy.gomes/Documents/Projetos/CAGE/Projeto Dizer o Direito/.venv/lib/python3.12/site-packages/tqdm/auto.py:21: TqdmWarning: IProgress not found. Please update jupyter and ipywidgets. See https://ipywidgets.readthedocs.io/en/stable/user_install.html\n",
      "  from .autonotebook import tqdm as notebook_tqdm\n"
     ]
    }
   ],
   "source": [
    "from backend.modules.graphs.graph import chat_graph, upload_graph"
   ]
  },
  {
   "cell_type": "code",
   "execution_count": 2,
   "metadata": {},
   "outputs": [],
   "source": [
    "import requests \n",
    "\n",
    "\n",
    "message = 'Olá. Quais são os pocedimentos para realizar a contabilização de uma gratificação natalina?'\n"
   ]
  },
  {
   "cell_type": "code",
   "execution_count": 6,
   "metadata": {},
   "outputs": [],
   "source": [
    "from langchain_core.messages import HumanMessage\n",
    "\n",
    "\n",
    "events = chat_graph.astream_events(\n",
    "    {\"question\": HumanMessage(content=message)},\n",
    "    version='v2',\n",
    "    config = {\"configurable\": {'thread_id': '123'}}\n",
    ")"
   ]
  },
  {
   "cell_type": "code",
   "execution_count": 7,
   "metadata": {},
   "outputs": [
    {
     "name": "stdout",
     "output_type": "stream",
     "text": [
      "LangGraph\n",
      "Entering question_rrewriter with following state: {'messages': [HumanMessage(content='Olá. Quais são os pocedimentos para realizar a contabilização de uma gratificação natalina?', additional_kwargs={}, response_metadata={}), AIMessage(content='Para realizar a contabilização de uma gratificação natalina, siga os seguintes procedimentos:\\n\\n1. **Verificação de Documentos**: Certifique-se de ter todos os documentos necessários, como comprovantes de pagamento da gratificação e lançamentos contábeis referentes à apropriação mensal (1/12 avos).\\n\\n2. **Verificação do Saldo da Conta de Apropriação**: Consulte o saldo da conta de apropriação da gratificação natalina (2.1.1.1.1.01.02.0224). \\n\\n3. **Lançamentos Contábeis**:\\n   - Se o saldo for devedor, realize os lançamentos apropriando mensalmente (1/12 avos) pelo valor do saldo devedor.\\n   - Se o saldo for credor, faça o estorno parcial dos lançamentos, apropriando conforme a natureza da despesa liquidada.\\n\\n4. **Conciliação**: Após a liquidação total da gratificação e dos encargos patronais, faça a conciliação das contas de apropriação com a execução orçamentária do exercício até 31 de dezembro do ano em questão.\\n\\n5. **Ajustes Finais**: Caso haja saldo nas contas de apropriação, ajuste conforme necessário, garantindo que as contas não apresentem saldo ao final do exercício, exceto se houver inscrição de restos não processados.\\n\\n6. **Registro no Sistema Contábil**: Registre os lançamentos contábeis no sistema, conforme as diretrizes específicas do manual contábil.\\n\\nCertifique-se de seguir todas as orientações específicas do manual e da legislação vigente para garantir a conformidade fiscal.', additional_kwargs={}, response_metadata={})], 'question': HumanMessage(content='Olá. Quais são os pocedimentos para realizar a contabilização de uma gratificação natalina?', additional_kwargs={}, response_metadata={}), 'subquestions': ['Quais são os documentos necessários para contabilizar a gratificação natalina?', 'Qual é o prazo para realizar a contabilização da gratificação natalina?', 'Quais são os lançamentos contábeis específicos para a gratificação natalina?', 'Como deve ser calculado o valor da gratificação natalina a ser contabilizada?', 'Quais são as implicações fiscais da contabilização da gratificação natalina?', 'Quais são os procedimentos para registrar a gratificação natalina no sistema contábil?'], 'qa_context': [{'question': 'Quais são os documentos necessários para contabilizar a gratificação natalina?', 'answer': 'Para contabilizar a gratificação natalina, são necessários os seguintes documentos: comprovantes de pagamento da gratificação, lançamentos contábeis referentes à apropriação mensal (1/12 avos), e os saldos das contas de apropriação da gratificação e encargos. É importante verificar se o saldo da conta de apropriação é devedor ou credor para realizar os ajustes necessários.', 'context': [Document(metadata={'nome': 'Guia de Benefícios', 'tipo_documento': 'manuais', 'header2': 'Correspondência NAD x Conta Contábil'}, page_content='| NAD                                                       | CONTA CONTÁBIL       |\\n|-----------------------------------------------------------|----------------------|\\n| 3.1.90.11.1103 - 13 Venc - RPPS                           | 3.1.1.1.1.01.22.0008 |\\n| 3.1.90.11.1119 - 13 Venc - RGPS                           | 3.1.1.2.1.01.22.0008 |\\n| 3.1.90.12.1203 - 13 Venc - PESSOAL MILITAR                | 3.1.1.3.1.01.15.0008 |\\n| 3.1.90.12.1214 - 13 Venc - SD TEMP                        | 3.1.1.3.1.01.15.0008 |\\n| 3.1.90.01.0129 - 13 Venc Aposentadorias Tempo Contrib     | 3.2.1.1.1.01.01.0008 |\\n| 3.1.90.01.0130 - 13 Venc Aposentadorias Compulsórias      | 3.2.1.1.1.01.02.0008 |\\n| 3.1.90.01.0131 - 13 Venc Aposentadorias por Invalidez     | 3.2.1.1.1.01.03.0008 |\\n| 3.1.90.01.0132 - 13 Venc Apos Especiais - Ativ de Risco   | 3.2.1.1.1.01.04.0008 |\\n| 3.1.90.01.0133 - 13 Venc Apos Especiais - Agentes Nocivos | 3.2.1.1.1.01.05.0008 |\\n| 3.1.90.01.0134 - 13 Venc Apos Especiais - Deficiência     | 3.2.1.1.1.01.06.0008 |\\n| 3.1.90.01.0135 - 13 Venc Aposentadorias Professor         | 3.2.1.1.1.01.07.0008 |\\n| 3.1.90.01.0136 - 13 Venc Outras Aposentadorias            | 3.2.1.1.1.01.99.0008 |\\n| 3.1.90.01.0137 - 13 Venc Reserva por Tempo de Serviço     | 3.2.1.3.1.01.01.0008 |\\n| 3.1.90.01.0138 - 13 Venc Outras Reservas - Militar        | 3.2.1.3.1.99.01.0008 |\\n| 3.1.90.01.0139 - 13 Venc Reforma por Tempo de Serviço     | 3.2.1.4.1.01.01.0008 |\\n| 3.1.90.01.0140 - 13 Venc Reforma por Invalidez            | 3.2.1.4.1.01.02.0008 |\\n| 3.1.90.01.0142 - 13 Venc Outras Reformas - Militar        | 3.2.1.4.1.99.99.0008 |\\n| 3.1.90.03.0304 - 13 Venc Pensionistas Civis               | 3.2.2.1.1.01.01.0008 |\\n| 3.1.90.03.0305 - 13 Venc Pensionistas Militares           | 3.2.2.3.1.01.01.0008 |\\n| 3.1.90.01.0108 - 13 Venc Pensões Especiais                | 3.2.2.9.1.01.01.0008 |\\n| 3.1.90.01.0108 - 13 Venc Outras Aposen RPPS               | 3.2.1.9.1.01.01.0008 |  \\n4º) Se o saldo da conta de apropriação da gratificação natalina (2.1.1.1.1.01.02.0224), após a transferência descrita no item I, for devedor , significa que a apropriação reconhecida durante o ano foi insuficiente. Nesse caso, realizar os lançamentos descritos no item 2.1 - Apropriação Mensal da Gratificação Natalina (1/12 avos) pelo valor do saldo devedor.  \\n<!-- image -->  \\n5º)  Se  o  saldo  das  contas  de  apropriação  de  encargos  (2.1.1.4.X.XX.XX.0224)  for credor , significa que houve apropriação maior do que a execução. Nesse caso, deverá ser feito o estorno parcial  dos  lançamentos  descritos  no  item  2.2  -  Apropriação  Mensal  dos  Encargos  sobre  a Gratificação  Natalina  (1/12  avos) 2.1  -  Apropriação  Mensal  da  Gratificação  Natalina  (1/12  avos) conforme a natureza de despesa efetivamente liquidada.'), Document(metadata={'header2': 'Correspondência NAD x Conta Contábil', 'nome': 'Guia de Benefícios', 'tipo_documento': 'manuais'}, page_content='| NAD                                                       | CONTA CONTÁBIL       |\\n|-----------------------------------------------------------|----------------------|\\n| 3.1.90.11.1103 - 13 Venc - RPPS                           | 3.1.1.1.1.01.22.0008 |\\n| 3.1.90.11.1119 - 13 Venc - RGPS                           | 3.1.1.2.1.01.22.0008 |\\n| 3.1.90.12.1203 - 13 Venc - PESSOAL MILITAR                | 3.1.1.3.1.01.15.0008 |\\n| 3.1.90.12.1214 - 13 Venc - SD TEMP                        | 3.1.1.3.1.01.15.0008 |\\n| 3.1.90.01.0129 - 13 Venc Aposentadorias Tempo Contrib     | 3.2.1.1.1.01.01.0008 |\\n| 3.1.90.01.0130 - 13 Venc Aposentadorias Compulsórias      | 3.2.1.1.1.01.02.0008 |\\n| 3.1.90.01.0131 - 13 Venc Aposentadorias por Invalidez     | 3.2.1.1.1.01.03.0008 |\\n| 3.1.90.01.0132 - 13 Venc Apos Especiais - Ativ de Risco   | 3.2.1.1.1.01.04.0008 |\\n| 3.1.90.01.0133 - 13 Venc Apos Especiais - Agentes Nocivos | 3.2.1.1.1.01.05.0008 |\\n| 3.1.90.01.0134 - 13 Venc Apos Especiais - Deficiência     | 3.2.1.1.1.01.06.0008 |\\n| 3.1.90.01.0135 - 13 Venc Aposentadorias Professor         | 3.2.1.1.1.01.07.0008 |\\n| 3.1.90.01.0136 - 13 Venc Outras Aposentadorias            | 3.2.1.1.1.01.99.0008 |\\n| 3.1.90.01.0137 - 13 Venc Reserva por Tempo de Serviço     | 3.2.1.3.1.01.01.0008 |\\n| 3.1.90.01.0138 - 13 Venc Outras Reservas - Militar        | 3.2.1.3.1.99.01.0008 |\\n| 3.1.90.01.0139 - 13 Venc Reforma por Tempo de Serviço     | 3.2.1.4.1.01.01.0008 |\\n| 3.1.90.01.0140 - 13 Venc Reforma por Invalidez            | 3.2.1.4.1.01.02.0008 |\\n| 3.1.90.01.0142 - 13 Venc Outras Reformas - Militar        | 3.2.1.4.1.99.99.0008 |\\n| 3.1.90.03.0304 - 13 Venc Pensionistas Civis               | 3.2.2.1.1.01.01.0008 |\\n| 3.1.90.03.0305 - 13 Venc Pensionistas Militares           | 3.2.2.3.1.01.01.0008 |\\n| 3.1.90.01.0108 - 13 Venc Pensões Especiais                | 3.2.2.9.1.01.01.0008 |\\n| 3.1.90.01.0108 - 13 Venc Outras Aposen RPPS               | 3.2.1.9.1.01.01.0008 |  \\n4º) Se o saldo da conta de apropriação da gratificação natalina (2.1.1.1.1.01.02.0224), após a transferência descrita no item I, for devedor , significa que a apropriação reconhecida durante o ano foi insuficiente. Nesse caso, realizar os lançamentos descritos no item 2.1 - Apropriação Mensal da Gratificação Natalina (1/12 avos) pelo valor do saldo devedor.  \\n<!-- image -->  \\n5º)  Se  o  saldo  das  contas  de  apropriação  de  encargos  (2.1.1.4.X.XX.XX.0224)  for credor , significa que houve apropriação maior do que a execução. Nesse caso, deverá ser feito o estorno parcial  dos  lançamentos  descritos  no  item  2.2  -  Apropriação  Mensal  dos  Encargos  sobre  a Gratificação  Natalina  (1/12  avos) 2.1  -  Apropriação  Mensal  da  Gratificação  Natalina  (1/12  avos) conforme a natureza de despesa efetivamente liquidada.')]}, {'question': 'Qual é o prazo para realizar a contabilização da gratificação natalina?', 'answer': 'O prazo para realizar a contabilização da gratificação natalina é em dezembro ou, eventualmente, em exercício posterior, após a liquidação total da gratificação e dos encargos patronais. É necessário fazer a conciliação das contas de apropriação com a execução orçamentária do exercício até 31 de dezembro do ano em questão.', 'context': [Document(metadata={'header2': '2.5 -Ajuste ao final do Exercício', 'nome': 'Guia de Benefícios', 'tipo_documento': 'manuais'}, page_content='Caso ocorra a liquidação total da obrigação com gratificação natalina e encargos, as contas de apropriação não deverão apresentar saldo ao final do exercício. Porém, havendo a inscrição de restos não processados no exercício , o saldo das contas deverá ser igual ao saldo inscrito.  \\nEm  dezembro,  ou  eventualmente  em  exercício  posterior,  após  a  liquidação  total  da gratificação  natalina  e  dos  encargos  patronais,  deverá  ser  feita  a  conciliação  das  contas  de apropriação com a execução orçamentária do exercício, conforme roteiro abaixo:  \\n1º) Transferência do saldo da conta 1.1.3.1.1.01.02.0224 (Adiantamento Gratificação Natalina)  para  a  conta  2.1.1.1.1.01.02.0224  (Apropriação  da  Gratificação  Natalina  a Liquidar).  \\nLançamento contábil manual (SLIP): D 2.1.1.1.1.01.02.0224 - Apropriação da Gratificação Natalina a liquidar  \\nC 1.1.3.1.1.01.02.0224 - Adiantamento da Gratificação Natalina  \\n2º)  Consulta  do  saldo  das  contas  contábeis  de  apropriação  (2.1.1.X.XX.XX.0224)  no  FPE, módulo Contabilidade -Demonstrativos -Balancete, informando a Unidade Orçamentária (U.O.), a conta contábil e a data fim 31/12/XXXX.'), Document(metadata={'header2': '2.5 -Ajuste ao final do Exercício', 'nome': 'Guia de Benefícios', 'tipo_documento': 'manuais'}, page_content='Caso ocorra a liquidação total da obrigação com gratificação natalina e encargos, as contas de apropriação não deverão apresentar saldo ao final do exercício. Porém, havendo a inscrição de restos não processados no exercício , o saldo das contas deverá ser igual ao saldo inscrito.  \\nEm  dezembro,  ou  eventualmente  em  exercício  posterior,  após  a  liquidação  total  da gratificação  natalina  e  dos  encargos  patronais,  deverá  ser  feita  a  conciliação  das  contas  de apropriação com a execução orçamentária do exercício, conforme roteiro abaixo:  \\n1º) Transferência do saldo da conta 1.1.3.1.1.01.02.0224 (Adiantamento Gratificação Natalina)  para  a  conta  2.1.1.1.1.01.02.0224  (Apropriação  da  Gratificação  Natalina  a Liquidar).  \\nLançamento contábil manual (SLIP): D 2.1.1.1.1.01.02.0224 - Apropriação da Gratificação Natalina a liquidar  \\nC 1.1.3.1.1.01.02.0224 - Adiantamento da Gratificação Natalina  \\n2º)  Consulta  do  saldo  das  contas  contábeis  de  apropriação  (2.1.1.X.XX.XX.0224)  no  FPE, módulo Contabilidade -Demonstrativos -Balancete, informando a Unidade Orçamentária (U.O.), a conta contábil e a data fim 31/12/XXXX.')]}, {'question': 'Quais são os lançamentos contábeis específicos para a gratificação natalina?', 'answer': 'Os lançamentos contábeis específicos para a gratificação natalina são: \\n\\n- Débito: D 2.1.1.1.1.01.02.0224 - Gratificação Natalina a Liquidar \\n- Crédito: C 2.1.1.1.1.01.01.0061 - Folhas de Pessoal a Pagar ou \\n- Crédito: C 2.1.1.2.1.01.01.0068 - Folhas de Pensões a Pagar.', 'context': [Document(metadata={'nome': 'Guia de Benefícios', 'header2': '2.4.3 -Liquidação da Gratificação Natalina', 'tipo_documento': 'manuais'}, page_content='Os lançamentos contábeis são gerados automaticamente a partir da liquidação:  \\nD 2.1.1.1.1.01.02.0224 - Gratificação Natalina a Liquidar  \\nC 2.1.1.1.1.01.01.0061 - Folhas de Pessoal a Pagar ou  \\nC 2.1.1.2.1.01.01.0068 - Folhas de Pensões a Pagar'), Document(metadata={'nome': 'Guia de Benefícios', 'header2': '2.4.3 -Liquidação da Gratificação Natalina', 'tipo_documento': 'manuais'}, page_content='Os lançamentos contábeis são gerados automaticamente a partir da liquidação:  \\nD 2.1.1.1.1.01.02.0224 - Gratificação Natalina a Liquidar  \\nC 2.1.1.1.1.01.01.0061 - Folhas de Pessoal a Pagar ou  \\nC 2.1.1.2.1.01.01.0068 - Folhas de Pensões a Pagar')]}, {'question': 'Como deve ser calculado o valor da gratificação natalina a ser contabilizada?', 'answer': 'O valor da gratificação natalina deve ser calculado com base na apropriação mensal, dividindo o total anual por 12 (1/12 avos). Se, ao final do ano, o saldo da conta de apropriação for devedor, significa que a apropriação foi insuficiente, e deve-se lançar o saldo devedor. Se o saldo for credor, houve apropriação excessiva, e um estorno parcial deve ser realizado. É importante seguir as diretrizes específicas para cada tipo de despesa e conta contábil correspondente.', 'context': [Document(metadata={'tipo_documento': 'manuais', 'header2': 'Correspondência NAD x Conta Contábil', 'nome': 'Guia de Benefícios'}, page_content='| NAD                                                       | CONTA CONTÁBIL       |\\n|-----------------------------------------------------------|----------------------|\\n| 3.1.90.11.1103 - 13 Venc - RPPS                           | 3.1.1.1.1.01.22.0008 |\\n| 3.1.90.11.1119 - 13 Venc - RGPS                           | 3.1.1.2.1.01.22.0008 |\\n| 3.1.90.12.1203 - 13 Venc - PESSOAL MILITAR                | 3.1.1.3.1.01.15.0008 |\\n| 3.1.90.12.1214 - 13 Venc - SD TEMP                        | 3.1.1.3.1.01.15.0008 |\\n| 3.1.90.01.0129 - 13 Venc Aposentadorias Tempo Contrib     | 3.2.1.1.1.01.01.0008 |\\n| 3.1.90.01.0130 - 13 Venc Aposentadorias Compulsórias      | 3.2.1.1.1.01.02.0008 |\\n| 3.1.90.01.0131 - 13 Venc Aposentadorias por Invalidez     | 3.2.1.1.1.01.03.0008 |\\n| 3.1.90.01.0132 - 13 Venc Apos Especiais - Ativ de Risco   | 3.2.1.1.1.01.04.0008 |\\n| 3.1.90.01.0133 - 13 Venc Apos Especiais - Agentes Nocivos | 3.2.1.1.1.01.05.0008 |\\n| 3.1.90.01.0134 - 13 Venc Apos Especiais - Deficiência     | 3.2.1.1.1.01.06.0008 |\\n| 3.1.90.01.0135 - 13 Venc Aposentadorias Professor         | 3.2.1.1.1.01.07.0008 |\\n| 3.1.90.01.0136 - 13 Venc Outras Aposentadorias            | 3.2.1.1.1.01.99.0008 |\\n| 3.1.90.01.0137 - 13 Venc Reserva por Tempo de Serviço     | 3.2.1.3.1.01.01.0008 |\\n| 3.1.90.01.0138 - 13 Venc Outras Reservas - Militar        | 3.2.1.3.1.99.01.0008 |\\n| 3.1.90.01.0139 - 13 Venc Reforma por Tempo de Serviço     | 3.2.1.4.1.01.01.0008 |\\n| 3.1.90.01.0140 - 13 Venc Reforma por Invalidez            | 3.2.1.4.1.01.02.0008 |\\n| 3.1.90.01.0142 - 13 Venc Outras Reformas - Militar        | 3.2.1.4.1.99.99.0008 |\\n| 3.1.90.03.0304 - 13 Venc Pensionistas Civis               | 3.2.2.1.1.01.01.0008 |\\n| 3.1.90.03.0305 - 13 Venc Pensionistas Militares           | 3.2.2.3.1.01.01.0008 |\\n| 3.1.90.01.0108 - 13 Venc Pensões Especiais                | 3.2.2.9.1.01.01.0008 |\\n| 3.1.90.01.0108 - 13 Venc Outras Aposen RPPS               | 3.2.1.9.1.01.01.0008 |  \\n4º) Se o saldo da conta de apropriação da gratificação natalina (2.1.1.1.1.01.02.0224), após a transferência descrita no item I, for devedor , significa que a apropriação reconhecida durante o ano foi insuficiente. Nesse caso, realizar os lançamentos descritos no item 2.1 - Apropriação Mensal da Gratificação Natalina (1/12 avos) pelo valor do saldo devedor.  \\n<!-- image -->  \\n5º)  Se  o  saldo  das  contas  de  apropriação  de  encargos  (2.1.1.4.X.XX.XX.0224)  for credor , significa que houve apropriação maior do que a execução. Nesse caso, deverá ser feito o estorno parcial  dos  lançamentos  descritos  no  item  2.2  -  Apropriação  Mensal  dos  Encargos  sobre  a Gratificação  Natalina  (1/12  avos) 2.1  -  Apropriação  Mensal  da  Gratificação  Natalina  (1/12  avos) conforme a natureza de despesa efetivamente liquidada.'), Document(metadata={'nome': 'Guia de Benefícios', 'tipo_documento': 'manuais', 'header2': 'Correspondência NAD x Conta Contábil'}, page_content='| NAD                                                       | CONTA CONTÁBIL       |\\n|-----------------------------------------------------------|----------------------|\\n| 3.1.90.11.1103 - 13 Venc - RPPS                           | 3.1.1.1.1.01.22.0008 |\\n| 3.1.90.11.1119 - 13 Venc - RGPS                           | 3.1.1.2.1.01.22.0008 |\\n| 3.1.90.12.1203 - 13 Venc - PESSOAL MILITAR                | 3.1.1.3.1.01.15.0008 |\\n| 3.1.90.12.1214 - 13 Venc - SD TEMP                        | 3.1.1.3.1.01.15.0008 |\\n| 3.1.90.01.0129 - 13 Venc Aposentadorias Tempo Contrib     | 3.2.1.1.1.01.01.0008 |\\n| 3.1.90.01.0130 - 13 Venc Aposentadorias Compulsórias      | 3.2.1.1.1.01.02.0008 |\\n| 3.1.90.01.0131 - 13 Venc Aposentadorias por Invalidez     | 3.2.1.1.1.01.03.0008 |\\n| 3.1.90.01.0132 - 13 Venc Apos Especiais - Ativ de Risco   | 3.2.1.1.1.01.04.0008 |\\n| 3.1.90.01.0133 - 13 Venc Apos Especiais - Agentes Nocivos | 3.2.1.1.1.01.05.0008 |\\n| 3.1.90.01.0134 - 13 Venc Apos Especiais - Deficiência     | 3.2.1.1.1.01.06.0008 |\\n| 3.1.90.01.0135 - 13 Venc Aposentadorias Professor         | 3.2.1.1.1.01.07.0008 |\\n| 3.1.90.01.0136 - 13 Venc Outras Aposentadorias            | 3.2.1.1.1.01.99.0008 |\\n| 3.1.90.01.0137 - 13 Venc Reserva por Tempo de Serviço     | 3.2.1.3.1.01.01.0008 |\\n| 3.1.90.01.0138 - 13 Venc Outras Reservas - Militar        | 3.2.1.3.1.99.01.0008 |\\n| 3.1.90.01.0139 - 13 Venc Reforma por Tempo de Serviço     | 3.2.1.4.1.01.01.0008 |\\n| 3.1.90.01.0140 - 13 Venc Reforma por Invalidez            | 3.2.1.4.1.01.02.0008 |\\n| 3.1.90.01.0142 - 13 Venc Outras Reformas - Militar        | 3.2.1.4.1.99.99.0008 |\\n| 3.1.90.03.0304 - 13 Venc Pensionistas Civis               | 3.2.2.1.1.01.01.0008 |\\n| 3.1.90.03.0305 - 13 Venc Pensionistas Militares           | 3.2.2.3.1.01.01.0008 |\\n| 3.1.90.01.0108 - 13 Venc Pensões Especiais                | 3.2.2.9.1.01.01.0008 |\\n| 3.1.90.01.0108 - 13 Venc Outras Aposen RPPS               | 3.2.1.9.1.01.01.0008 |  \\n4º) Se o saldo da conta de apropriação da gratificação natalina (2.1.1.1.1.01.02.0224), após a transferência descrita no item I, for devedor , significa que a apropriação reconhecida durante o ano foi insuficiente. Nesse caso, realizar os lançamentos descritos no item 2.1 - Apropriação Mensal da Gratificação Natalina (1/12 avos) pelo valor do saldo devedor.  \\n<!-- image -->  \\n5º)  Se  o  saldo  das  contas  de  apropriação  de  encargos  (2.1.1.4.X.XX.XX.0224)  for credor , significa que houve apropriação maior do que a execução. Nesse caso, deverá ser feito o estorno parcial  dos  lançamentos  descritos  no  item  2.2  -  Apropriação  Mensal  dos  Encargos  sobre  a Gratificação  Natalina  (1/12  avos) 2.1  -  Apropriação  Mensal  da  Gratificação  Natalina  (1/12  avos) conforme a natureza de despesa efetivamente liquidada.')]}, {'question': 'Quais são as implicações fiscais da contabilização da gratificação natalina?', 'answer': 'As implicações fiscais da contabilização da gratificação natalina incluem a necessidade de apropriação mensal, que deve ser ajustada conforme o saldo das contas. Se o saldo for devedor, é necessário reconhecer a apropriação insuficiente; se for credor, deve-se estornar lançamentos excessivos. Essas ações garantem que os registros contábeis reflitam corretamente as despesas e os encargos, evitando problemas fiscais e assegurando a conformidade com a legislação tributária.', 'context': [Document(metadata={'header2': 'Correspondência NAD x Conta Contábil', 'tipo_documento': 'manuais', 'nome': 'Guia de Benefícios'}, page_content='| NAD                                                       | CONTA CONTÁBIL       |\\n|-----------------------------------------------------------|----------------------|\\n| 3.1.90.11.1103 - 13 Venc - RPPS                           | 3.1.1.1.1.01.22.0008 |\\n| 3.1.90.11.1119 - 13 Venc - RGPS                           | 3.1.1.2.1.01.22.0008 |\\n| 3.1.90.12.1203 - 13 Venc - PESSOAL MILITAR                | 3.1.1.3.1.01.15.0008 |\\n| 3.1.90.12.1214 - 13 Venc - SD TEMP                        | 3.1.1.3.1.01.15.0008 |\\n| 3.1.90.01.0129 - 13 Venc Aposentadorias Tempo Contrib     | 3.2.1.1.1.01.01.0008 |\\n| 3.1.90.01.0130 - 13 Venc Aposentadorias Compulsórias      | 3.2.1.1.1.01.02.0008 |\\n| 3.1.90.01.0131 - 13 Venc Aposentadorias por Invalidez     | 3.2.1.1.1.01.03.0008 |\\n| 3.1.90.01.0132 - 13 Venc Apos Especiais - Ativ de Risco   | 3.2.1.1.1.01.04.0008 |\\n| 3.1.90.01.0133 - 13 Venc Apos Especiais - Agentes Nocivos | 3.2.1.1.1.01.05.0008 |\\n| 3.1.90.01.0134 - 13 Venc Apos Especiais - Deficiência     | 3.2.1.1.1.01.06.0008 |\\n| 3.1.90.01.0135 - 13 Venc Aposentadorias Professor         | 3.2.1.1.1.01.07.0008 |\\n| 3.1.90.01.0136 - 13 Venc Outras Aposentadorias            | 3.2.1.1.1.01.99.0008 |\\n| 3.1.90.01.0137 - 13 Venc Reserva por Tempo de Serviço     | 3.2.1.3.1.01.01.0008 |\\n| 3.1.90.01.0138 - 13 Venc Outras Reservas - Militar        | 3.2.1.3.1.99.01.0008 |\\n| 3.1.90.01.0139 - 13 Venc Reforma por Tempo de Serviço     | 3.2.1.4.1.01.01.0008 |\\n| 3.1.90.01.0140 - 13 Venc Reforma por Invalidez            | 3.2.1.4.1.01.02.0008 |\\n| 3.1.90.01.0142 - 13 Venc Outras Reformas - Militar        | 3.2.1.4.1.99.99.0008 |\\n| 3.1.90.03.0304 - 13 Venc Pensionistas Civis               | 3.2.2.1.1.01.01.0008 |\\n| 3.1.90.03.0305 - 13 Venc Pensionistas Militares           | 3.2.2.3.1.01.01.0008 |\\n| 3.1.90.01.0108 - 13 Venc Pensões Especiais                | 3.2.2.9.1.01.01.0008 |\\n| 3.1.90.01.0108 - 13 Venc Outras Aposen RPPS               | 3.2.1.9.1.01.01.0008 |  \\n4º) Se o saldo da conta de apropriação da gratificação natalina (2.1.1.1.1.01.02.0224), após a transferência descrita no item I, for devedor , significa que a apropriação reconhecida durante o ano foi insuficiente. Nesse caso, realizar os lançamentos descritos no item 2.1 - Apropriação Mensal da Gratificação Natalina (1/12 avos) pelo valor do saldo devedor.  \\n<!-- image -->  \\n5º)  Se  o  saldo  das  contas  de  apropriação  de  encargos  (2.1.1.4.X.XX.XX.0224)  for credor , significa que houve apropriação maior do que a execução. Nesse caso, deverá ser feito o estorno parcial  dos  lançamentos  descritos  no  item  2.2  -  Apropriação  Mensal  dos  Encargos  sobre  a Gratificação  Natalina  (1/12  avos) 2.1  -  Apropriação  Mensal  da  Gratificação  Natalina  (1/12  avos) conforme a natureza de despesa efetivamente liquidada.'), Document(metadata={'nome': 'Guia de Benefícios', 'tipo_documento': 'manuais', 'header2': 'Correspondência NAD x Conta Contábil'}, page_content='| NAD                                                       | CONTA CONTÁBIL       |\\n|-----------------------------------------------------------|----------------------|\\n| 3.1.90.11.1103 - 13 Venc - RPPS                           | 3.1.1.1.1.01.22.0008 |\\n| 3.1.90.11.1119 - 13 Venc - RGPS                           | 3.1.1.2.1.01.22.0008 |\\n| 3.1.90.12.1203 - 13 Venc - PESSOAL MILITAR                | 3.1.1.3.1.01.15.0008 |\\n| 3.1.90.12.1214 - 13 Venc - SD TEMP                        | 3.1.1.3.1.01.15.0008 |\\n| 3.1.90.01.0129 - 13 Venc Aposentadorias Tempo Contrib     | 3.2.1.1.1.01.01.0008 |\\n| 3.1.90.01.0130 - 13 Venc Aposentadorias Compulsórias      | 3.2.1.1.1.01.02.0008 |\\n| 3.1.90.01.0131 - 13 Venc Aposentadorias por Invalidez     | 3.2.1.1.1.01.03.0008 |\\n| 3.1.90.01.0132 - 13 Venc Apos Especiais - Ativ de Risco   | 3.2.1.1.1.01.04.0008 |\\n| 3.1.90.01.0133 - 13 Venc Apos Especiais - Agentes Nocivos | 3.2.1.1.1.01.05.0008 |\\n| 3.1.90.01.0134 - 13 Venc Apos Especiais - Deficiência     | 3.2.1.1.1.01.06.0008 |\\n| 3.1.90.01.0135 - 13 Venc Aposentadorias Professor         | 3.2.1.1.1.01.07.0008 |\\n| 3.1.90.01.0136 - 13 Venc Outras Aposentadorias            | 3.2.1.1.1.01.99.0008 |\\n| 3.1.90.01.0137 - 13 Venc Reserva por Tempo de Serviço     | 3.2.1.3.1.01.01.0008 |\\n| 3.1.90.01.0138 - 13 Venc Outras Reservas - Militar        | 3.2.1.3.1.99.01.0008 |\\n| 3.1.90.01.0139 - 13 Venc Reforma por Tempo de Serviço     | 3.2.1.4.1.01.01.0008 |\\n| 3.1.90.01.0140 - 13 Venc Reforma por Invalidez            | 3.2.1.4.1.01.02.0008 |\\n| 3.1.90.01.0142 - 13 Venc Outras Reformas - Militar        | 3.2.1.4.1.99.99.0008 |\\n| 3.1.90.03.0304 - 13 Venc Pensionistas Civis               | 3.2.2.1.1.01.01.0008 |\\n| 3.1.90.03.0305 - 13 Venc Pensionistas Militares           | 3.2.2.3.1.01.01.0008 |\\n| 3.1.90.01.0108 - 13 Venc Pensões Especiais                | 3.2.2.9.1.01.01.0008 |\\n| 3.1.90.01.0108 - 13 Venc Outras Aposen RPPS               | 3.2.1.9.1.01.01.0008 |  \\n4º) Se o saldo da conta de apropriação da gratificação natalina (2.1.1.1.1.01.02.0224), após a transferência descrita no item I, for devedor , significa que a apropriação reconhecida durante o ano foi insuficiente. Nesse caso, realizar os lançamentos descritos no item 2.1 - Apropriação Mensal da Gratificação Natalina (1/12 avos) pelo valor do saldo devedor.  \\n<!-- image -->  \\n5º)  Se  o  saldo  das  contas  de  apropriação  de  encargos  (2.1.1.4.X.XX.XX.0224)  for credor , significa que houve apropriação maior do que a execução. Nesse caso, deverá ser feito o estorno parcial  dos  lançamentos  descritos  no  item  2.2  -  Apropriação  Mensal  dos  Encargos  sobre  a Gratificação  Natalina  (1/12  avos) 2.1  -  Apropriação  Mensal  da  Gratificação  Natalina  (1/12  avos) conforme a natureza de despesa efetivamente liquidada.')]}, {'question': 'Quais são os procedimentos para registrar a gratificação natalina no sistema contábil?', 'answer': 'Para registrar a gratificação natalina no sistema contábil, siga os seguintes passos: \\n\\n1. Verifique o saldo da conta de apropriação da gratificação natalina (2.1.1.1.1.01.02.0224). \\n2. Se o saldo for devedor, realize lançamentos conforme o item 2.1, apropriando mensalmente (1/12 avos) pelo valor do saldo devedor. \\n3. Se o saldo for credor, faça o estorno parcial dos lançamentos do item 2.2, apropriando conforme a natureza da despesa liquidada. \\n\\nCertifique-se de seguir as orientações específicas do manual.', 'context': [Document(metadata={'tipo_documento': 'manuais', 'nome': 'Guia de Benefícios', 'header2': 'Correspondência NAD x Conta Contábil'}, page_content='| NAD                                                       | CONTA CONTÁBIL       |\\n|-----------------------------------------------------------|----------------------|\\n| 3.1.90.11.1103 - 13 Venc - RPPS                           | 3.1.1.1.1.01.22.0008 |\\n| 3.1.90.11.1119 - 13 Venc - RGPS                           | 3.1.1.2.1.01.22.0008 |\\n| 3.1.90.12.1203 - 13 Venc - PESSOAL MILITAR                | 3.1.1.3.1.01.15.0008 |\\n| 3.1.90.12.1214 - 13 Venc - SD TEMP                        | 3.1.1.3.1.01.15.0008 |\\n| 3.1.90.01.0129 - 13 Venc Aposentadorias Tempo Contrib     | 3.2.1.1.1.01.01.0008 |\\n| 3.1.90.01.0130 - 13 Venc Aposentadorias Compulsórias      | 3.2.1.1.1.01.02.0008 |\\n| 3.1.90.01.0131 - 13 Venc Aposentadorias por Invalidez     | 3.2.1.1.1.01.03.0008 |\\n| 3.1.90.01.0132 - 13 Venc Apos Especiais - Ativ de Risco   | 3.2.1.1.1.01.04.0008 |\\n| 3.1.90.01.0133 - 13 Venc Apos Especiais - Agentes Nocivos | 3.2.1.1.1.01.05.0008 |\\n| 3.1.90.01.0134 - 13 Venc Apos Especiais - Deficiência     | 3.2.1.1.1.01.06.0008 |\\n| 3.1.90.01.0135 - 13 Venc Aposentadorias Professor         | 3.2.1.1.1.01.07.0008 |\\n| 3.1.90.01.0136 - 13 Venc Outras Aposentadorias            | 3.2.1.1.1.01.99.0008 |\\n| 3.1.90.01.0137 - 13 Venc Reserva por Tempo de Serviço     | 3.2.1.3.1.01.01.0008 |\\n| 3.1.90.01.0138 - 13 Venc Outras Reservas - Militar        | 3.2.1.3.1.99.01.0008 |\\n| 3.1.90.01.0139 - 13 Venc Reforma por Tempo de Serviço     | 3.2.1.4.1.01.01.0008 |\\n| 3.1.90.01.0140 - 13 Venc Reforma por Invalidez            | 3.2.1.4.1.01.02.0008 |\\n| 3.1.90.01.0142 - 13 Venc Outras Reformas - Militar        | 3.2.1.4.1.99.99.0008 |\\n| 3.1.90.03.0304 - 13 Venc Pensionistas Civis               | 3.2.2.1.1.01.01.0008 |\\n| 3.1.90.03.0305 - 13 Venc Pensionistas Militares           | 3.2.2.3.1.01.01.0008 |\\n| 3.1.90.01.0108 - 13 Venc Pensões Especiais                | 3.2.2.9.1.01.01.0008 |\\n| 3.1.90.01.0108 - 13 Venc Outras Aposen RPPS               | 3.2.1.9.1.01.01.0008 |  \\n4º) Se o saldo da conta de apropriação da gratificação natalina (2.1.1.1.1.01.02.0224), após a transferência descrita no item I, for devedor , significa que a apropriação reconhecida durante o ano foi insuficiente. Nesse caso, realizar os lançamentos descritos no item 2.1 - Apropriação Mensal da Gratificação Natalina (1/12 avos) pelo valor do saldo devedor.  \\n<!-- image -->  \\n5º)  Se  o  saldo  das  contas  de  apropriação  de  encargos  (2.1.1.4.X.XX.XX.0224)  for credor , significa que houve apropriação maior do que a execução. Nesse caso, deverá ser feito o estorno parcial  dos  lançamentos  descritos  no  item  2.2  -  Apropriação  Mensal  dos  Encargos  sobre  a Gratificação  Natalina  (1/12  avos) 2.1  -  Apropriação  Mensal  da  Gratificação  Natalina  (1/12  avos) conforme a natureza de despesa efetivamente liquidada.'), Document(metadata={'tipo_documento': 'manuais', 'header2': 'Correspondência NAD x Conta Contábil', 'nome': 'Guia de Benefícios'}, page_content='| NAD                                                       | CONTA CONTÁBIL       |\\n|-----------------------------------------------------------|----------------------|\\n| 3.1.90.11.1103 - 13 Venc - RPPS                           | 3.1.1.1.1.01.22.0008 |\\n| 3.1.90.11.1119 - 13 Venc - RGPS                           | 3.1.1.2.1.01.22.0008 |\\n| 3.1.90.12.1203 - 13 Venc - PESSOAL MILITAR                | 3.1.1.3.1.01.15.0008 |\\n| 3.1.90.12.1214 - 13 Venc - SD TEMP                        | 3.1.1.3.1.01.15.0008 |\\n| 3.1.90.01.0129 - 13 Venc Aposentadorias Tempo Contrib     | 3.2.1.1.1.01.01.0008 |\\n| 3.1.90.01.0130 - 13 Venc Aposentadorias Compulsórias      | 3.2.1.1.1.01.02.0008 |\\n| 3.1.90.01.0131 - 13 Venc Aposentadorias por Invalidez     | 3.2.1.1.1.01.03.0008 |\\n| 3.1.90.01.0132 - 13 Venc Apos Especiais - Ativ de Risco   | 3.2.1.1.1.01.04.0008 |\\n| 3.1.90.01.0133 - 13 Venc Apos Especiais - Agentes Nocivos | 3.2.1.1.1.01.05.0008 |\\n| 3.1.90.01.0134 - 13 Venc Apos Especiais - Deficiência     | 3.2.1.1.1.01.06.0008 |\\n| 3.1.90.01.0135 - 13 Venc Aposentadorias Professor         | 3.2.1.1.1.01.07.0008 |\\n| 3.1.90.01.0136 - 13 Venc Outras Aposentadorias            | 3.2.1.1.1.01.99.0008 |\\n| 3.1.90.01.0137 - 13 Venc Reserva por Tempo de Serviço     | 3.2.1.3.1.01.01.0008 |\\n| 3.1.90.01.0138 - 13 Venc Outras Reservas - Militar        | 3.2.1.3.1.99.01.0008 |\\n| 3.1.90.01.0139 - 13 Venc Reforma por Tempo de Serviço     | 3.2.1.4.1.01.01.0008 |\\n| 3.1.90.01.0140 - 13 Venc Reforma por Invalidez            | 3.2.1.4.1.01.02.0008 |\\n| 3.1.90.01.0142 - 13 Venc Outras Reformas - Militar        | 3.2.1.4.1.99.99.0008 |\\n| 3.1.90.03.0304 - 13 Venc Pensionistas Civis               | 3.2.2.1.1.01.01.0008 |\\n| 3.1.90.03.0305 - 13 Venc Pensionistas Militares           | 3.2.2.3.1.01.01.0008 |\\n| 3.1.90.01.0108 - 13 Venc Pensões Especiais                | 3.2.2.9.1.01.01.0008 |\\n| 3.1.90.01.0108 - 13 Venc Outras Aposen RPPS               | 3.2.1.9.1.01.01.0008 |  \\n4º) Se o saldo da conta de apropriação da gratificação natalina (2.1.1.1.1.01.02.0224), após a transferência descrita no item I, for devedor , significa que a apropriação reconhecida durante o ano foi insuficiente. Nesse caso, realizar os lançamentos descritos no item 2.1 - Apropriação Mensal da Gratificação Natalina (1/12 avos) pelo valor do saldo devedor.  \\n<!-- image -->  \\n5º)  Se  o  saldo  das  contas  de  apropriação  de  encargos  (2.1.1.4.X.XX.XX.0224)  for credor , significa que houve apropriação maior do que a execução. Nesse caso, deverá ser feito o estorno parcial  dos  lançamentos  descritos  no  item  2.2  -  Apropriação  Mensal  dos  Encargos  sobre  a Gratificação  Natalina  (1/12  avos) 2.1  -  Apropriação  Mensal  da  Gratificação  Natalina  (1/12  avos) conforme a natureza de despesa efetivamente liquidada.')]}], 'agent_think': 'Para realizar a contabilização de uma gratificação natalina, siga os seguintes procedimentos:\\n\\n1. **Verificação de Documentos**: Certifique-se de ter todos os documentos necessários, como comprovantes de pagamento da gratificação e lançamentos contábeis referentes à apropriação mensal (1/12 avos).\\n\\n2. **Verificação do Saldo da Conta de Apropriação**: Consulte o saldo da conta de apropriação da gratificação natalina (2.1.1.1.1.01.02.0224). \\n\\n3. **Lançamentos Contábeis**:\\n   - Se o saldo for devedor, realize os lançamentos apropriando mensalmente (1/12 avos) pelo valor do saldo devedor.\\n   - Se o saldo for credor, faça o estorno parcial dos lançamentos, apropriando conforme a natureza da despesa liquidada.\\n\\n4. **Conciliação**: Após a liquidação total da gratificação e dos encargos patronais, faça a conciliação das contas de apropriação com a execução orçamentária do exercício até 31 de dezembro do ano em questão.\\n\\n5. **Ajustes Finais**: Caso haja saldo nas contas de apropriação, ajuste conforme necessário, garantindo que as contas não apresentem saldo ao final do exercício, exceto se houver inscrição de restos não processados.\\n\\n6. **Registro no Sistema Contábil**: Registre os lançamentos contábeis no sistema, conforme as diretrizes específicas do manual contábil.\\n\\nCertifique-se de seguir todas as orientações específicas do manual e da legislação vigente para garantir a conformidade fiscal.', 'on_topic': 'Sim', 'rephrased_question': 'Olá. Quais são os pocedimentos para realizar a contabilização de uma gratificação natalina?', 'proceed_to_generate': False}\n"
     ]
    },
    {
     "name": "stderr",
     "output_type": "stream",
     "text": [
      "INFO:httpx:HTTP Request: POST https://api.openai.com/v1/chat/completions \"HTTP/1.1 200 OK\"\n",
      "INFO:root:Entering question_classifier\n"
     ]
    },
    {
     "name": "stdout",
     "output_type": "stream",
     "text": [
      "question_rewriter: Rephrased question: Quais são os procedimentos para contabilizar uma gratificação natalina?\n",
      "LangGraph\n"
     ]
    },
    {
     "name": "stderr",
     "output_type": "stream",
     "text": [
      "INFO:httpx:HTTP Request: POST https://api.openai.com/v1/chat/completions \"HTTP/1.1 200 OK\"\n",
      "INFO:root:question_classifier: on topic = Sim\n",
      "INFO:root:Entering on_topic_router\n",
      "INFO:root:on_topic_router: Question is on topic, routing to question_decomposition\n"
     ]
    },
    {
     "name": "stdout",
     "output_type": "stream",
     "text": [
      "LangGraph\n"
     ]
    },
    {
     "name": "stderr",
     "output_type": "stream",
     "text": [
      "INFO:httpx:HTTP Request: POST https://api.openai.com/v1/chat/completions \"HTTP/1.1 200 OK\"\n",
      "INFO:root:Entering retrieve\n",
      "INFO:root:Entering retrieve\n",
      "INFO:root:Entering retrieve\n",
      "INFO:root:Entering retrieve\n",
      "INFO:root:Entering retrieve\n",
      "INFO:root:Entering retrieve\n",
      "INFO:root:Entering retrieve\n",
      "INFO:root:Entering retrieve\n"
     ]
    },
    {
     "name": "stdout",
     "output_type": "stream",
     "text": [
      "LangGraph\n",
      "LangGraph\n",
      "LangGraph\n",
      "LangGraph\n",
      "LangGraph\n",
      "LangGraph\n",
      "LangGraph\n",
      "LangGraph\n",
      "LangGraph\n"
     ]
    },
    {
     "name": "stderr",
     "output_type": "stream",
     "text": [
      "INFO:httpx:HTTP Request: POST https://api.openai.com/v1/embeddings \"HTTP/1.1 200 OK\"\n",
      "INFO:root:retrieve: Found 2 documents\n",
      "INFO:root:Entering retrieval_grader\n",
      "INFO:httpx:HTTP Request: POST https://api.openai.com/v1/embeddings \"HTTP/1.1 200 OK\"\n",
      "INFO:httpx:HTTP Request: POST https://api.openai.com/v1/embeddings \"HTTP/1.1 200 OK\"\n",
      "INFO:root:retrieve: Found 2 documents\n",
      "INFO:root:retrieve: Found 2 documents\n",
      "INFO:root:Entering retrieval_grader\n",
      "INFO:root:Entering retrieval_grader\n",
      "INFO:httpx:HTTP Request: POST https://api.openai.com/v1/embeddings \"HTTP/1.1 200 OK\"\n",
      "INFO:httpx:HTTP Request: POST https://api.openai.com/v1/embeddings \"HTTP/1.1 200 OK\"\n",
      "INFO:httpx:HTTP Request: POST https://api.openai.com/v1/chat/completions \"HTTP/1.1 200 OK\"\n",
      "INFO:httpx:HTTP Request: POST https://api.openai.com/v1/embeddings \"HTTP/1.1 200 OK\"\n",
      "INFO:root:retrieve: Found 2 documents\n",
      "INFO:root:retrieve: Found 2 documents\n",
      "INFO:root:Entering retrieval_grader\n",
      "INFO:root:Entering retrieval_grader\n",
      "INFO:root:retrieve: Found 2 documents\n",
      "INFO:root:Entering retrieval_grader\n",
      "INFO:root:Grading document: Os encargos patronais incident... Score: Sim\n",
      "INFO:httpx:HTTP Request: POST https://api.openai.com/v1/chat/completions \"HTTP/1.1 200 OK\"\n",
      "INFO:httpx:HTTP Request: POST https://api.openai.com/v1/chat/completions \"HTTP/1.1 200 OK\"\n",
      "INFO:root:Grading document: | 1 - INTRODUÇÃO................. Score: Sim\n",
      "INFO:root:Grading document: | 1 - INTRODUÇÃO................. Score: Sim\n",
      "INFO:httpx:HTTP Request: POST https://api.openai.com/v1/embeddings \"HTTP/1.1 200 OK\"\n",
      "INFO:root:retrieve: Found 2 documents\n",
      "INFO:root:Entering retrieval_grader\n",
      "INFO:httpx:HTTP Request: POST https://api.openai.com/v1/chat/completions \"HTTP/1.1 200 OK\"\n",
      "INFO:httpx:HTTP Request: POST https://api.openai.com/v1/chat/completions \"HTTP/1.1 200 OK\"\n",
      "INFO:httpx:HTTP Request: POST https://api.openai.com/v1/chat/completions \"HTTP/1.1 200 OK\"\n",
      "INFO:httpx:HTTP Request: POST https://api.openai.com/v1/chat/completions \"HTTP/1.1 200 OK\"\n",
      "INFO:root:Grading document: A gratificação natalina é exem... Score: Não\n",
      "INFO:root:Grading document: | NAD                         ... Score: Sim\n",
      "INFO:httpx:HTTP Request: POST https://api.openai.com/v1/chat/completions \"HTTP/1.1 200 OK\"\n",
      "INFO:root:Grading document: Os encargos patronais incident... Score: Sim\n",
      "INFO:root:retrieval_grader: Proceed to generate = True\n",
      "INFO:root:Entering proceed_retrieval_router\n",
      "INFO:root:Routing to generate_retrieval_answer\n",
      "INFO:root:Entering generate_retrieval_answer\n",
      "INFO:httpx:HTTP Request: POST https://api.openai.com/v1/chat/completions \"HTTP/1.1 200 OK\"\n",
      "INFO:httpx:HTTP Request: POST https://api.openai.com/v1/chat/completions \"HTTP/1.1 200 OK\"\n",
      "INFO:root:Grading document: | NAD                         ... Score: Sim\n",
      "INFO:root:Grading document: | 1 - INTRODUÇÃO................. Score: Sim\n",
      "INFO:root:retrieval_grader: Proceed to generate = True\n",
      "INFO:root:Entering proceed_retrieval_router\n",
      "INFO:root:Routing to generate_retrieval_answer\n",
      "INFO:root:Entering generate_retrieval_answer\n",
      "INFO:root:Grading document: | 1 - INTRODUÇÃO................. Score: Sim\n",
      "INFO:root:retrieval_grader: Proceed to generate = True\n",
      "INFO:root:Entering proceed_retrieval_router\n",
      "INFO:root:Routing to generate_retrieval_answer\n",
      "INFO:root:Entering generate_retrieval_answer\n",
      "INFO:root:Grading document: A quitação da gratificação nat... Score: Não\n",
      "INFO:httpx:HTTP Request: POST https://api.openai.com/v1/chat/completions \"HTTP/1.1 200 OK\"\n",
      "INFO:httpx:HTTP Request: POST https://api.openai.com/v1/chat/completions \"HTTP/1.1 200 OK\"\n",
      "INFO:httpx:HTTP Request: POST https://api.openai.com/v1/chat/completions \"HTTP/1.1 200 OK\"\n",
      "INFO:root:Grading document: | NAD                         ... Score: Sim\n",
      "INFO:root:retrieval_grader: Proceed to generate = True\n",
      "INFO:root:Entering proceed_retrieval_router\n",
      "INFO:root:Routing to generate_retrieval_answer\n",
      "INFO:root:Entering generate_retrieval_answer\n",
      "INFO:httpx:HTTP Request: POST https://api.openai.com/v1/chat/completions \"HTTP/1.1 200 OK\"\n",
      "INFO:root:Grading document: A gratificação natalina é exem... Score: Não\n",
      "INFO:root:retrieval_grader: Proceed to generate = False\n",
      "INFO:root:Entering proceed_retrieval_router\n",
      "INFO:root:Routing to refine_question\n",
      "INFO:root:Entering refine_question\n",
      "INFO:httpx:HTTP Request: POST https://api.openai.com/v1/chat/completions \"HTTP/1.1 200 OK\"\n",
      "INFO:httpx:HTTP Request: POST https://api.openai.com/v1/chat/completions \"HTTP/1.1 200 OK\"\n",
      "INFO:httpx:HTTP Request: POST https://api.openai.com/v1/chat/completions \"HTTP/1.1 200 OK\"\n",
      "INFO:root:Grading document: | NAD                         ... Score: Sim\n",
      "INFO:root:retrieval_grader: Proceed to generate = True\n",
      "INFO:root:Entering proceed_retrieval_router\n",
      "INFO:root:Routing to generate_retrieval_answer\n",
      "INFO:root:Entering generate_retrieval_answer\n",
      "INFO:root:Grading document: A quitação da gratificação nat... Score: Não\n",
      "INFO:root:retrieval_grader: Proceed to generate = False\n",
      "INFO:root:Entering proceed_retrieval_router\n",
      "INFO:root:Routing to refine_question\n",
      "INFO:root:Entering refine_question\n",
      "INFO:httpx:HTTP Request: POST https://api.openai.com/v1/chat/completions \"HTTP/1.1 200 OK\"\n",
      "INFO:httpx:HTTP Request: POST https://api.openai.com/v1/chat/completions \"HTTP/1.1 200 OK\"\n",
      "INFO:httpx:HTTP Request: POST https://api.openai.com/v1/chat/completions \"HTTP/1.1 200 OK\"\n",
      "INFO:httpx:HTTP Request: POST https://api.openai.com/v1/chat/completions \"HTTP/1.1 200 OK\"\n",
      "INFO:root:refine_question: Refined question: Quais são os requisitos legais para a concessão da gratificação natalina no Brasil?\n",
      "INFO:root:Entering retrieve\n",
      "INFO:root:refine_question: Refined question: Quais são os prazos estabelecidos para o pagamento da gratificação natalina?\n",
      "INFO:root:Entering retrieve\n",
      "INFO:root:generate_retrieval_answer: Generated retrievalanswer: A gratificação natalina deve ser registrada na contabilidade da empresa como um passivo apropriado por competência. Os encargos patronais relacionados, como as contribuições previdenciárias, devem ser apropriados mensalmente na proporção de 1/12 avos. O reconhecimento dessa obrigação é feito por meio de lançamento manual (SLIP).\n",
      "INFO:httpx:HTTP Request: POST https://api.openai.com/v1/embeddings \"HTTP/1.1 200 OK\"\n",
      "INFO:root:retrieve: Found 2 documents\n",
      "INFO:root:Entering retrieval_grader\n",
      "INFO:root:generate_retrieval_answer: Generated retrievalanswer: O contexto fornecido não especifica quais documentos são necessários para comprovar o pagamento da gratificação natalina. Recomenda-se consultar a legislação pertinente ou a instituição responsável para obter informações detalhadas sobre a documentação exigida.\n",
      "INFO:httpx:HTTP Request: POST https://api.openai.com/v1/embeddings \"HTTP/1.1 200 OK\"\n",
      "INFO:root:retrieve: Found 2 documents\n",
      "INFO:root:Entering retrieval_grader\n",
      "INFO:httpx:HTTP Request: POST https://api.openai.com/v1/chat/completions \"HTTP/1.1 200 OK\"\n",
      "INFO:root:Grading document: | 1 - INTRODUÇÃO................. Score: Sim\n",
      "INFO:httpx:HTTP Request: POST https://api.openai.com/v1/embeddings \"HTTP/1.1 200 OK\"\n",
      "INFO:root:retrieve: Found 2 documents\n",
      "INFO:root:Entering retrieval_grader\n",
      "INFO:httpx:HTTP Request: POST https://api.openai.com/v1/chat/completions \"HTTP/1.1 200 OK\"\n",
      "INFO:root:generate_retrieval_answer: Generated retrievalanswer: As implicações fiscais da gratificação natalina (13º salário) para o empregador incluem a necessidade de apropriação mensal da gratificação e dos encargos sociais correspondentes. O empregador deve contabilizar esses valores como despesas, além de realizar o pagamento dos encargos patronais sobre a gratificação. É importante também considerar ajustes ao final do exercício fiscal para garantir a conformidade tributária. O não cumprimento dessas obrigações pode resultar em penalidades e encargos adicionais.\n",
      "INFO:root:Grading document: A quitação da gratificação nat... Score: Não\n",
      "INFO:root:generate_retrieval_answer: Generated retrievalanswer: O valor da gratificação natalina deve ser calculado com base na apropriação mensal, dividindo o total anual por 12 (1/12 avos). Se, ao final do ano, o saldo da conta de apropriação for devedor, é necessário realizar lançamentos para cobrir a insuficiência. Caso o saldo seja credor, deve-se estornar parcialmente os lançamentos de apropriação mensal, ajustando conforme a despesa efetivamente liquidada.\n",
      "INFO:root:generate_retrieval_answer: Generated retrievalanswer: As implicações fiscais da gratificação natalina (13º salário) para o empregado incluem a incidência de Imposto de Renda (IR) sobre o valor recebido, que deve ser considerado na base de cálculo do imposto. Além disso, a gratificação é sujeita a encargos sociais, como a contribuição para a Previdência Social. É importante que o empregado esteja ciente de que a gratificação pode impactar sua faixa de tributação e, consequentemente, o valor do imposto a ser pago.\n",
      "INFO:httpx:HTTP Request: POST https://api.openai.com/v1/chat/completions \"HTTP/1.1 200 OK\"\n",
      "INFO:root:Grading document: | 1 - INTRODUÇÃO................. Score: Sim\n",
      "INFO:root:retrieval_grader: Proceed to generate = True\n",
      "INFO:root:Entering proceed_retrieval_router\n",
      "INFO:root:Routing to generate_retrieval_answer\n",
      "INFO:root:Entering generate_retrieval_answer\n",
      "INFO:httpx:HTTP Request: POST https://api.openai.com/v1/chat/completions \"HTTP/1.1 200 OK\"\n",
      "INFO:root:Grading document: A gratificação natalina é exem... Score: Não\n",
      "INFO:httpx:HTTP Request: POST https://api.openai.com/v1/chat/completions \"HTTP/1.1 200 OK\"\n",
      "INFO:root:Grading document: A quitação da gratificação nat... Score: Não\n",
      "INFO:root:retrieval_grader: Proceed to generate = False\n",
      "INFO:root:Entering proceed_retrieval_router\n",
      "INFO:root:Routing to refine_question\n",
      "INFO:root:Entering refine_question\n",
      "INFO:httpx:HTTP Request: POST https://api.openai.com/v1/chat/completions \"HTTP/1.1 200 OK\"\n",
      "INFO:httpx:HTTP Request: POST https://api.openai.com/v1/chat/completions \"HTTP/1.1 200 OK\"\n",
      "INFO:root:refine_question: Refined question: Quais são os prazos estabelecidos para o pagamento da gratificação natalina?\n",
      "INFO:root:Entering retrieve\n",
      "INFO:httpx:HTTP Request: POST https://api.openai.com/v1/chat/completions \"HTTP/1.1 200 OK\"\n",
      "INFO:root:Grading document: A gratificação natalina é exem... Score: Não\n",
      "INFO:root:retrieval_grader: Proceed to generate = False\n",
      "INFO:root:Entering proceed_retrieval_router\n",
      "INFO:root:Routing to refine_question\n",
      "INFO:root:Entering refine_question\n",
      "INFO:httpx:HTTP Request: POST https://api.openai.com/v1/embeddings \"HTTP/1.1 200 OK\"\n",
      "INFO:root:retrieve: Found 2 documents\n",
      "INFO:root:Entering retrieval_grader\n",
      "INFO:httpx:HTTP Request: POST https://api.openai.com/v1/chat/completions \"HTTP/1.1 200 OK\"\n",
      "INFO:httpx:HTTP Request: POST https://api.openai.com/v1/chat/completions \"HTTP/1.1 200 OK\"\n",
      "INFO:root:Grading document: A quitação da gratificação nat... Score: Não\n",
      "INFO:root:refine_question: Refined question: Quais são os requisitos legais para a concessão da gratificação natalina no Brasil?\n",
      "INFO:root:Entering retrieve\n",
      "INFO:httpx:HTTP Request: POST https://api.openai.com/v1/chat/completions \"HTTP/1.1 200 OK\"\n",
      "INFO:root:generate_retrieval_answer: Generated retrievalanswer: Os tipos de gratificação natalina (13º salário) incluem: \n",
      "\n",
      "1. Apropriação Mensal da Gratificação Natalina (1/12 avos).\n",
      "2. Apropriação Mensal dos Encargos sobre a Gratificação Natalina (1/12 avos).\n",
      "3. Antecipações e 1ª Parcela da Gratificação Natalina.\n",
      "4. Quitação da Gratificação Natalina e Encargos Patronais.\n",
      "5. Ajuste ao final do Exercício.\n",
      "\n",
      "Esses tipos abrangem desde a apropriação até o pagamento e liquidação da gratificação e seus encargos.\n",
      "INFO:root:Grading document: A quitação da gratificação nat... Score: Não\n",
      "INFO:root:retrieval_grader: Proceed to generate = False\n",
      "INFO:root:Entering proceed_retrieval_router\n",
      "INFO:root:Maximum rephrasing attempts reached, routing to cannot_answer_retrieval_task\n",
      "INFO:root:Entering cannot_answer_retrieval_task\n",
      "INFO:httpx:HTTP Request: POST https://api.openai.com/v1/embeddings \"HTTP/1.1 200 OK\"\n",
      "INFO:root:retrieve: Found 2 documents\n",
      "INFO:root:Entering retrieval_grader\n",
      "INFO:httpx:HTTP Request: POST https://api.openai.com/v1/chat/completions \"HTTP/1.1 200 OK\"\n",
      "INFO:root:Grading document: A gratificação natalina é exem... Score: Não\n",
      "INFO:httpx:HTTP Request: POST https://api.openai.com/v1/chat/completions \"HTTP/1.1 200 OK\"\n",
      "INFO:root:Grading document: A gratificação natalina é exem... Score: Não\n",
      "INFO:root:retrieval_grader: Proceed to generate = False\n",
      "INFO:root:Entering proceed_retrieval_router\n",
      "INFO:root:Maximum rephrasing attempts reached, routing to cannot_answer_retrieval_task\n",
      "INFO:root:Entering cannot_answer_retrieval_task\n",
      "INFO:root:Entering proceed_to_answer_router\n",
      "INFO:root:Routing to generate_answer\n",
      "INFO:root:Entering generate_answer\n"
     ]
    },
    {
     "name": "stdout",
     "output_type": "stream",
     "text": [
      "LangGraph\n"
     ]
    },
    {
     "name": "stderr",
     "output_type": "stream",
     "text": [
      "INFO:httpx:HTTP Request: POST https://api.openai.com/v1/chat/completions \"HTTP/1.1 200 OK\"\n",
      "INFO:root:generate_answer: Generated answer: Os procedimentos para contabilizar uma gratificação natalina (13º salário) incluem os seguintes passos:\n",
      "\n",
      "1. **Verificação de Documentos**: Assegure-se de ter todos os documentos necessários, como comprovantes de pagamento da gratificação e lançamentos contábeis referentes à apropriação mensal (1/12 avos).\n",
      "\n",
      "2. **Verificação do Saldo da Conta de Apropriação**: Consulte o saldo da conta de apropriação da gratificação natalina (2.1.1.1.1.01.02.0224).\n",
      "\n",
      "3. **Lançamentos Contábeis**:\n",
      "   - Se o saldo for devedor, realize os lançamentos apropriando mensalmente (1/12 avos) pelo valor do saldo devedor.\n",
      "   - Se o saldo for credor, faça o estorno parcial dos lançamentos, apropriando conforme a natureza da despesa liquidada.\n",
      "\n",
      "4. **Conciliação**: Após a liquidação total da gratificação e dos encargos patronais, faça a conciliação das contas de apropriação com a execução orçamentária do exercício até 31 de dezembro do ano em questão.\n",
      "\n",
      "5. **Ajustes Finais**: Caso haja saldo nas contas de apropriação, ajuste conforme necessário, garantindo que as contas não apresentem saldo ao final do exercício, exceto se houver inscrição de restos não processados.\n",
      "\n",
      "6. **Registro no Sistema Contábil**: Registre os lançamentos contábeis no sistema, conforme as diretrizes específicas do manual contábil.\n",
      "\n",
      "É importante seguir todas as orientações específicas do manual e da legislação vigente para garantir a conformidade fiscal.\n"
     ]
    },
    {
     "name": "stdout",
     "output_type": "stream",
     "text": [
      "LangGraph\n",
      "LangGraph\n"
     ]
    }
   ],
   "source": [
    "async for event in events:\n",
    "    event_type = event['event']\n",
    "    \n",
    "    name_agent = event['name']\n",
    "\n",
    "\n",
    "    output = event['data'].get('output', {})\n",
    "    if output and isinstance(output, dict):\n",
    "        if output.get('tags', {}).get('avoid_spam', False):\n",
    "            continue \n",
    "    if event['name'] == 'LangGraph':\n",
    "        print(event['name'])\n",
    "\n",
    "    \n",
    "    "
   ]
  },
  {
   "cell_type": "code",
   "execution_count": null,
   "metadata": {},
   "outputs": [],
   "source": [
    "event['data'].get('output', {}).get('tags', {}).get('avoid_spam', False)"
   ]
  },
  {
   "cell_type": "code",
   "execution_count": null,
   "metadata": {},
   "outputs": [],
   "source": [
    "event['data']['output']"
   ]
  }
 ],
 "metadata": {
  "kernelspec": {
   "display_name": ".venv",
   "language": "python",
   "name": "python3"
  },
  "language_info": {
   "codemirror_mode": {
    "name": "ipython",
    "version": 3
   },
   "file_extension": ".py",
   "mimetype": "text/x-python",
   "name": "python",
   "nbconvert_exporter": "python",
   "pygments_lexer": "ipython3",
   "version": "3.12.3"
  }
 },
 "nbformat": 4,
 "nbformat_minor": 2
}
